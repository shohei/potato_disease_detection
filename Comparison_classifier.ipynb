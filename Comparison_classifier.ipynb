{
 "cells": [
  {
   "cell_type": "code",
   "execution_count": 1,
   "id": "183b8cd6-5bf8-4d42-b656-bba4708036e7",
   "metadata": {},
   "outputs": [],
   "source": [
    "import numpy as np\n",
    "import random #擬似乱数を生成するライブラリー \n",
    "from PIL import Image, ImageOps #画像処理ライブラリー\n",
    "from sklearn.metrics import accuracy_score #モデルの正解率を計算するライブラリー\n",
    "import glob #ファイルパス名を取得するライブラリ\n",
    "import matplotlib.pyplot as plt #図をプロットするためのライブラリー\n",
    "%matplotlib inline \n",
    "\n",
    "np.random.seed(0) #乱数のシードの設定"
   ]
  },
  {
   "cell_type": "code",
   "execution_count": 2,
   "id": "9f30af79-1d90-47cd-84c8-048a4a1678ba",
   "metadata": {},
   "outputs": [],
   "source": [
    "num_of_data_total = 900\n",
    "\n",
    "N_col = 128*128*3 # 行列の列数\n",
    "X_train = np.zeros((num_of_data_total, N_col)) # 学習データ格納のためゼロ行列生成\n",
    "y_train = np.zeros((num_of_data_total)) # 学習データに対するラベルを格納するためのゼロ行列生成\n",
    "\n",
    "# Potato___Early_blight`\n",
    "path_list = glob.glob(\"./potato/train/Potato___Early_blight/*\") \n",
    "i_count = 0\n",
    "\n",
    "for item in path_list:\n",
    "    im = Image.open(item).convert('RGB')\n",
    "    img_resize =im.resize((128,128)) # 画像のサイズ変更\n",
    "    im_array = np.ravel(np.asarray(img_resize)) # 画像を配列に変換\n",
    "    im_regularized = im_array/255. # 正規化\n",
    "    X_train[i_count,:] =  im_regularized\n",
    "    y_train[i_count] = 0 # Early blight\n",
    "    i_count += 1\n",
    "    \n",
    "# Potato___healthy\n",
    "path_list = glob.glob(\"./potato/train/Potato___healthy/*\")\n",
    "\n",
    "for item in path_list:\n",
    "    im = Image.open(item).convert('RGB')   \n",
    "    img_resize = im.resize((128,128)) # 画像のサイズ変更\n",
    "    im_array = np.ravel(np.asarray(img_resize)) # 画像を配列に変換\n",
    "    im_regularized = im_array/255. # 正規化\n",
    "    X_train[i_count,:] = im_regularized\n",
    "    y_train[i_count] = 1 # Healthy\n",
    "    i_count += 1\n",
    "    \n",
    "\n",
    "# Potato___Late_blight\n",
    "path_list = glob.glob(\"./potato/train/Potato___Late_blight/*\")\n",
    "\n",
    "for item in path_list:\n",
    "    im = Image.open(item).convert('RGB')   \n",
    "    img_resize = im.resize((128,128)) # 画像のサイズ変更\n",
    "    im_array = np.ravel(np.asarray(img_resize)) # 画像を配列に変換\n",
    "    im_regularized = im_array/255. # 正規化\n",
    "    X_train[i_count,:] = im_regularized\n",
    "    y_train[i_count] = 2 # Late blight\n",
    "    i_count += 1"
   ]
  },
  {
   "cell_type": "code",
   "execution_count": 3,
   "id": "70bee8d6-29ff-407d-9719-f1f2ba9ad954",
   "metadata": {},
   "outputs": [],
   "source": [
    "num_of_data_total = 300\n",
    "\n",
    "N_col = 128*128*3\n",
    "X_test = np.zeros((num_of_data_total, N_col))\n",
    "y_test = np.zeros(num_of_data_total)\n",
    "\n",
    "\n",
    "path_list = glob.glob(\"./potato/val/Potato___Early_blight/*\")                      \n",
    "i_count = 0\n",
    "for item in path_list:\n",
    "    im = Image.open(item).convert('RGB')\n",
    "    img_resize =im.resize((128,128))\n",
    "    im_array = np.ravel(np.array(img_resize))\n",
    "    im_mean_subtract = im_array/255.\n",
    "    X_test[i_count,:] =  im_mean_subtract\n",
    "    y_test[i_count] = 0\n",
    "    i_count += 1\n",
    "\n",
    "path_list = glob.glob(\"./potato/val/Potato___healthy/*\")                      \n",
    "\n",
    "for item in path_list:\n",
    "    im = Image.open(item).convert('RGB')   \n",
    "    img_resize = im.resize((128,128))\n",
    "    im_array = np.ravel(np.array(img_resize))\n",
    "    im_regularized = im_array/255.\n",
    "    X_test[i_count,:] = im_regularized\n",
    "    y_test[i_count] = 1\n",
    "    i_count += 1 \n",
    "    \n",
    "path_list = glob.glob(\"./potato/val/Potato___Late_blight/*\")                      \n",
    "\n",
    "for item in path_list:\n",
    "    im = Image.open(item).convert('RGB')   \n",
    "    img_resize = im.resize((128,128))\n",
    "    im_array = np.ravel(np.array(img_resize))\n",
    "    im_regularized = im_array/255.\n",
    "    X_test[i_count,:] = im_regularized\n",
    "    y_test[i_count] = 2\n",
    "    i_count += 1 "
   ]
  },
  {
   "cell_type": "code",
   "execution_count": 6,
   "id": "3d944e14-491d-4d29-b540-98cdf18007e7",
   "metadata": {},
   "outputs": [
    {
     "name": "stdout",
     "output_type": "stream",
     "text": [
      "[LibLinear]....................................................................................................\n",
      "optimization finished, #iter = 1000\n",
      "\n",
      "WARNING: reaching max number of iterations\n",
      "Using -s 2 may be faster (also see FAQ)\n",
      "\n",
      "Objective value = -0.221520\n",
      "nSV = 282\n",
      "....................................................................................................\n",
      "optimization finished, #iter = 1000\n",
      "\n",
      "WARNING: reaching max number of iterations\n",
      "Using -s 2 may be faster (also see FAQ)\n",
      "\n",
      "Objective value = -0.423439\n",
      "nSV = 399\n",
      "....................................................................................................\n",
      "optimization finished, #iter = 1000\n",
      "\n",
      "WARNING: reaching max number of iterations\n",
      "Using -s 2 may be faster (also see FAQ)\n",
      "\n",
      "Objective value = -0.993863\n",
      "nSV = 592\n",
      "Train : 1.0\n",
      "Test : 0.8333333333333334\n"
     ]
    },
    {
     "name": "stderr",
     "output_type": "stream",
     "text": [
      "/home/shohei/.local/lib/python3.8/site-packages/sklearn/svm/_base.py:1206: ConvergenceWarning: Liblinear failed to converge, increase the number of iterations.\n",
      "  warnings.warn(\n"
     ]
    }
   ],
   "source": [
    "from sklearn.svm import LinearSVC\n",
    "model = LinearSVC(C=0.3, random_state=0,verbose=1)\n",
    "model.fit(X_train, y_train)\n",
    "# 学習データに対する精度\n",
    "print(\"Train :\", model.score(X_train,  y_train))\n",
    "# テストデータに対する精度\n",
    "print(\"Test :\", model.score(X_test, y_test))"
   ]
  },
  {
   "cell_type": "code",
   "execution_count": 9,
   "id": "d02f735c-67e4-43f2-811c-535a8538006a",
   "metadata": {},
   "outputs": [
    {
     "name": "stdout",
     "output_type": "stream",
     "text": [
      "Train : 0.6222222222222222\n",
      "Test : 0.64\n"
     ]
    }
   ],
   "source": [
    "from sklearn.neighbors import KNeighborsClassifier\n",
    "n_neighbors = int(np.sqrt(6000))\n",
    "model = KNeighborsClassifier(n_neighbors = n_neighbors)\n",
    "model.fit(X_train, y_train)\n",
    "# 精度\n",
    "print(\"Train :\", model.score(X_train, y_train))\n",
    "print(\"Test :\", model.score(X_test, y_test))"
   ]
  },
  {
   "cell_type": "code",
   "execution_count": 10,
   "id": "73bced10-6944-44c1-b4b7-d0f6407a0a43",
   "metadata": {},
   "outputs": [
    {
     "name": "stdout",
     "output_type": "stream",
     "text": [
      "Train : 0.9244444444444444\n",
      "Test : 0.8566666666666667\n"
     ]
    }
   ],
   "source": [
    "from sklearn.svm import SVC\n",
    "model = SVC(C=0.3, kernel='rbf', random_state=0)\n",
    "model.fit(X_train, y_train)\n",
    "# 精度\n",
    "print(\"Train :\", model.score(X_train,  y_train))\n",
    "print(\"Test :\", model.score(X_test, y_test))"
   ]
  },
  {
   "cell_type": "code",
   "execution_count": 11,
   "id": "b8926e1a-7431-49b7-b4dd-751e456c0f43",
   "metadata": {},
   "outputs": [
    {
     "name": "stderr",
     "output_type": "stream",
     "text": [
      "/home/shohei/.local/lib/python3.8/site-packages/xgboost/sklearn.py:1224: UserWarning: The use of label encoder in XGBClassifier is deprecated and will be removed in a future release. To remove this warning, do the following: 1) Pass option use_label_encoder=False when constructing XGBClassifier object; and 2) Encode your labels (y) as integers starting with 0, i.e. 0, 1, 2, ..., [num_class - 1].\n",
      "  warnings.warn(label_encoder_deprecation_msg, UserWarning)\n"
     ]
    },
    {
     "name": "stdout",
     "output_type": "stream",
     "text": [
      "[10:03:43] WARNING: ../src/learner.cc:1115: Starting in XGBoost 1.3.0, the default evaluation metric used with the objective 'multi:softprob' was changed from 'merror' to 'mlogloss'. Explicitly set eval_metric if you'd like to restore the old behavior.\n",
      "Train : 0.9977777777777778\n",
      "Test : 0.86\n"
     ]
    }
   ],
   "source": [
    "import xgboost as xgb\n",
    "model = xgb.XGBClassifier(n_estimators=80, max_depth=4, gamma=3)\n",
    "model.fit(X_train, y_train)\n",
    "# 精度\n",
    "print(\"Train :\", model.score(X_train,  y_train))\n",
    "print(\"Test :\", model.score(X_test, y_test))"
   ]
  },
  {
   "cell_type": "code",
   "execution_count": 13,
   "id": "119911d7-f2c8-4296-8756-0c082f07298c",
   "metadata": {},
   "outputs": [
    {
     "name": "stdout",
     "output_type": "stream",
     "text": [
      "Train : 1.0\n",
      "Test : 0.9133333333333333\n"
     ]
    }
   ],
   "source": [
    "from sklearn.linear_model import SGDClassifier\n",
    "from sklearn.preprocessing import StandardScaler\n",
    "from sklearn.pipeline import make_pipeline\n",
    "\n",
    "clf = make_pipeline(StandardScaler(),\n",
    "                    SGDClassifier(max_iter=1000, tol=1e-3))\n",
    "clf.fit(X_train, y_train)\n",
    "# Pipeline(steps=[('standardscaler', StandardScaler()),\n",
    "#                ('sgdclassifier', SGDClassifier())])\n",
    "# 精度\n",
    "print(\"Train :\", clf.score(X_train,  y_train))\n",
    "print(\"Test :\", clf.score(X_test, y_test))"
   ]
  },
  {
   "cell_type": "code",
   "execution_count": 15,
   "id": "93d1a836-4173-463f-b64c-a6d07dc3b8fd",
   "metadata": {},
   "outputs": [
    {
     "name": "stderr",
     "output_type": "stream",
     "text": [
      "/home/shohei/.local/lib/python3.8/site-packages/sklearn/linear_model/_stochastic_gradient.py:696: ConvergenceWarning: Maximum number of iteration reached before convergence. Consider increasing max_iter to improve the fit.\n",
      "  warnings.warn(\n"
     ]
    },
    {
     "name": "stdout",
     "output_type": "stream",
     "text": [
      "Train : 0.44666666666666666\n",
      "Test : 0.3233333333333333\n"
     ]
    }
   ],
   "source": [
    "from sklearn.kernel_approximation import RBFSampler\n",
    "from sklearn.linear_model import SGDClassifier\n",
    "rbf_feature = RBFSampler(gamma=1, random_state=1)\n",
    "X_features = rbf_feature.fit_transform(X_train)\n",
    "clf = SGDClassifier(max_iter=5)\n",
    "clf.fit(X_features, y_train)\n",
    "SGDClassifier(max_iter=5)\n",
    "# 精度\n",
    "print(\"Train :\", clf.score(X_features,  y_train))\n",
    "X_features_test = rbf_feature.fit_transform(X_test)\n",
    "print(\"Test :\", clf.score(X_features_test, y_test))"
   ]
  },
  {
   "cell_type": "code",
   "execution_count": 22,
   "id": "ca10d612-6b14-4dc5-b195-e3f29d004580",
   "metadata": {},
   "outputs": [
    {
     "name": "stdout",
     "output_type": "stream",
     "text": [
      "[Pipeline] .... (step 1 of 2) Processing standardscaler, total=   0.0s\n",
      "[Pipeline] ..... (step 2 of 2) Processing sgdclassifier, total=   0.2s\n",
      "[Pipeline] .... (step 1 of 2) Processing standardscaler, total=   0.1s\n",
      "[Pipeline] ..... (step 2 of 2) Processing sgdclassifier, total=   0.6s\n",
      "[Pipeline] .... (step 1 of 2) Processing standardscaler, total=   0.1s\n",
      "[Pipeline] ..... (step 2 of 2) Processing sgdclassifier, total=   1.0s\n",
      "[Pipeline] .... (step 1 of 2) Processing standardscaler, total=   0.2s\n",
      "[Pipeline] ..... (step 2 of 2) Processing sgdclassifier, total=   1.5s\n",
      "[Pipeline] .... (step 1 of 2) Processing standardscaler, total=   0.2s\n",
      "[Pipeline] ..... (step 2 of 2) Processing sgdclassifier, total=   2.1s\n",
      "[Pipeline] .... (step 1 of 2) Processing standardscaler, total=   0.0s\n",
      "[Pipeline] ..... (step 2 of 2) Processing sgdclassifier, total=   0.2s\n",
      "[Pipeline] .... (step 1 of 2) Processing standardscaler, total=   0.1s\n",
      "[Pipeline] ..... (step 2 of 2) Processing sgdclassifier, total=   0.7s\n",
      "[Pipeline] .... (step 1 of 2) Processing standardscaler, total=   0.1s\n",
      "[Pipeline] ..... (step 2 of 2) Processing sgdclassifier, total=   1.1s\n",
      "[Pipeline] .... (step 1 of 2) Processing standardscaler, total=   0.2s\n",
      "[Pipeline] ..... (step 2 of 2) Processing sgdclassifier, total=   1.8s\n",
      "[Pipeline] .... (step 1 of 2) Processing standardscaler, total=   0.2s\n",
      "[Pipeline] ..... (step 2 of 2) Processing sgdclassifier, total=   2.1s\n",
      "[Pipeline] .... (step 1 of 2) Processing standardscaler, total=   0.0s\n",
      "[Pipeline] ..... (step 2 of 2) Processing sgdclassifier, total=   0.2s\n",
      "[Pipeline] .... (step 1 of 2) Processing standardscaler, total=   0.1s\n",
      "[Pipeline] ..... (step 2 of 2) Processing sgdclassifier, total=   0.7s\n",
      "[Pipeline] .... (step 1 of 2) Processing standardscaler, total=   0.1s\n",
      "[Pipeline] ..... (step 2 of 2) Processing sgdclassifier, total=   1.1s\n",
      "[Pipeline] .... (step 1 of 2) Processing standardscaler, total=   0.2s\n",
      "[Pipeline] ..... (step 2 of 2) Processing sgdclassifier, total=   1.5s\n",
      "[Pipeline] .... (step 1 of 2) Processing standardscaler, total=   0.2s\n",
      "[Pipeline] ..... (step 2 of 2) Processing sgdclassifier, total=   2.1s\n",
      "[Pipeline] .... (step 1 of 2) Processing standardscaler, total=   0.0s\n",
      "[Pipeline] ..... (step 2 of 2) Processing sgdclassifier, total=   0.2s\n",
      "[Pipeline] .... (step 1 of 2) Processing standardscaler, total=   0.1s\n",
      "[Pipeline] ..... (step 2 of 2) Processing sgdclassifier, total=   0.6s\n",
      "[Pipeline] .... (step 1 of 2) Processing standardscaler, total=   0.1s\n",
      "[Pipeline] ..... (step 2 of 2) Processing sgdclassifier, total=   1.3s\n",
      "[Pipeline] .... (step 1 of 2) Processing standardscaler, total=   0.2s\n",
      "[Pipeline] ..... (step 2 of 2) Processing sgdclassifier, total=   1.5s\n",
      "[Pipeline] .... (step 1 of 2) Processing standardscaler, total=   0.2s\n",
      "[Pipeline] ..... (step 2 of 2) Processing sgdclassifier, total=   2.6s\n",
      "[Pipeline] .... (step 1 of 2) Processing standardscaler, total=   0.0s\n",
      "[Pipeline] ..... (step 2 of 2) Processing sgdclassifier, total=   0.2s\n",
      "[Pipeline] .... (step 1 of 2) Processing standardscaler, total=   0.1s\n",
      "[Pipeline] ..... (step 2 of 2) Processing sgdclassifier, total=   0.7s\n",
      "[Pipeline] .... (step 1 of 2) Processing standardscaler, total=   0.1s\n",
      "[Pipeline] ..... (step 2 of 2) Processing sgdclassifier, total=   1.1s\n",
      "[Pipeline] .... (step 1 of 2) Processing standardscaler, total=   0.2s\n",
      "[Pipeline] ..... (step 2 of 2) Processing sgdclassifier, total=   1.5s\n",
      "[Pipeline] .... (step 1 of 2) Processing standardscaler, total=   0.2s\n",
      "[Pipeline] ..... (step 2 of 2) Processing sgdclassifier, total=   2.3s\n"
     ]
    }
   ],
   "source": [
    "from sklearn.model_selection import learning_curve    \n",
    "train_sizes = np.array([0.1, 0.33, 0.55, 0.78, 1. ])\n",
    "\n",
    "# model = xgb.XGBClassifier(n_estimators=80, max_depth=4, gamma=3)\n",
    "# model_xgb.fit(X_train, y_train)\n",
    "model = make_pipeline(StandardScaler(),\n",
    "                    SGDClassifier(max_iter=1000, tol=1e-3),verbose=True)\n",
    "\n",
    "train_sizes, train_scores, test_scores = learning_curve(\n",
    "    model, X_train, y_train, cv=5, train_sizes=train_sizes, random_state=0, shuffle=True\n",
    "    )\n",
    "\n",
    "# 各学習データ数の場合について学習用データと検証用データに対する精度を求める。\n",
    "train_scores_mean = np.mean(train_scores, axis=1)\n",
    "train_scores_std = np.std(train_scores, axis=1)\n",
    "validation_scores_mean = np.mean(test_scores, axis=1)\n",
    "validation_scores_std = np.std(test_scores, axis=1)"
   ]
  },
  {
   "cell_type": "code",
   "execution_count": 30,
   "id": "49d2ae82-da77-4309-a7e0-6da27bb22c83",
   "metadata": {},
   "outputs": [
    {
     "data": {
      "text/plain": [
       "<matplotlib.legend.Legend at 0x7f171826b2b0>"
      ]
     },
     "execution_count": 30,
     "metadata": {},
     "output_type": "execute_result"
    },
    {
     "data": {
      "image/png": "[encoded data removed]",
      "text/plain": [
       "<Figure size 432x288 with 1 Axes>"
      ]
     },
     "metadata": {
      "needs_background": "light"
     },
     "output_type": "display_data"
    }
   ],
   "source": [
    "#fig, ax = plt.subplots()\n",
    "plt.plot(train_sizes, train_scores_mean, 'o-', color=\"r\", label=\"Training score\")\n",
    "plt.plot(train_sizes, validation_scores_mean, 'o-', color=\"g\", label=\"Test score\")\n",
    "\n",
    "plt.gca().set_title('Classification')\n",
    "plt.gca().set_xlabel('Number of Training data')\n",
    "plt.gca().set_ylabel('Accuracy')\n",
    "#plt.gca().set_ylim(0.4, 0.8)\n",
    "plt.gca().legend(loc=\"best\")"
   ]
  },
  {
   "cell_type": "code",
   "execution_count": null,
   "id": "656fc2bd-100a-4b26-9b15-c85166d9104b",
   "metadata": {},
   "outputs": [],
   "source": []
  }
 ],
 "metadata": {
  "kernelspec": {
   "display_name": "Python 3 (ipykernel)",
   "language": "python",
   "name": "python3"
  },
  "language_info": {
   "codemirror_mode": {
    "name": "ipython",
    "version": 3
   },
   "file_extension": ".py",
   "mimetype": "text/x-python",
   "name": "python",
   "nbconvert_exporter": "python",
   "pygments_lexer": "ipython3",
   "version": "3.8.10"
  }
 },
 "nbformat": 4,
 "nbformat_minor": 5
}
